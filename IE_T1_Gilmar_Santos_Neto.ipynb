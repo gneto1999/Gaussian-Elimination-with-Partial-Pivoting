{
  "nbformat": 4,
  "nbformat_minor": 0,
  "metadata": {
    "colab": {
      "provenance": [],
      "authorship_tag": "ABX9TyOcJ+JBHDXr2kAjIcU9XgLO",
      "include_colab_link": true
    },
    "kernelspec": {
      "name": "python3",
      "display_name": "Python 3"
    },
    "language_info": {
      "name": "python"
    }
  },
  "cells": [
    {
      "cell_type": "markdown",
      "metadata": {
        "id": "view-in-github",
        "colab_type": "text"
      },
      "source": [
        "<a href=\"https://colab.research.google.com/github/gneto1999/Gaussian-Elimination-with-Partial-Pivoting/blob/main/IE_T1_Gilmar_Santos_Neto.ipynb\" target=\"_parent\"><img src=\"https://colab.research.google.com/assets/colab-badge.svg\" alt=\"Open In Colab\"/></a>"
      ]
    },
    {
      "cell_type": "markdown",
      "source": [
        "# 1 Teorema do Limite Central\n",
        "\n",
        "Nesta parte, você irá realizar uma simulação computacional envolvendo a\n",
        "distribuição exponencial e o Teorema do Limite Central.\n",
        "A função de densidade de uma variável aleatória que segue a distribuição\n",
        "exponencial é a seguinte:\n",
        "$$f(x, \\lambda)= \\begin{cases}\n",
        "   \\lambda e^{-(\\lambda e)} &\\text{} x\\geq 0 \\\\\n",
        "   0 &\\text{} x< 0\n",
        "\\end{cases}$$\n",
        "Na função acima, λ é o parâmetro da distribuição exponencial, conhecido\n",
        "como taxa (rate). A média da distribuição exponencial é 1/λ e o desvio\n",
        "padrão é também 1/λ.\n",
        "A geração de números aleatórios que seguem a distribuição exponencial\n",
        "pode ser simulada tanto em R quanto em Python; veja a Listagem 1 e a\n",
        "Listagem 2. Nessas duas listagens considere o seguinte:\n",
        "\n",
        "* lambda indica o parâmetro da distribuição exponencial;\n",
        "* n indica a quantidade de valores a gerar.\n",
        "\n",
        "Listagem 1: Geração de números aleatórios seguindo a distribuição exponencial em R.\n",
        "\n",
        "`amostra = rexp (n , rate = lambda )`\n",
        "\n",
        "Listagem 2: Geração de n números aleatórios seguindo a distribuição exponencial em Python.\n",
        "\n",
        "`from scipy.stats import expon`\n",
        "\n",
        "`amostra = expon.rvs (size = n , scale =1/ lambda)`\n",
        "\n",
        "Em sua investigação, defina o valor de lambda como igual a 0,2 para\n",
        "todas as simulações que você realizar. Sua investigação deve abranger a\n",
        "distribuição de médias de 40 exponenciais i.e., o tamanho de suas amostras\n",
        "deve ser n = 40). Além disso, sua investigação deve usar 1000 simulações\n",
        "(i.e., a quantidade de amostras deve ser igual a 1000).\n",
        "\n",
        "Apresente um histograma da distribuição amostral para a variável x, a\n",
        "média amostral (sampling distribution of the mean). Construa esse histograma usando os dados resultantes das 1000 simulações. O gráfico que você\n",
        "deve produzir deve ser semelhante ao apresentado na Figura 1. Como sugestão, use ou a biblioteca matplotlib(para a linguagem Python) ou a biblioteca ggplot(para a linguagem R) para produzir esse gráfico. Repareque, assim como a figura abaixo, seu gráfico deve mostrar que a distribuição\n",
        "amostral é aproximadamente normal.\n",
        "Agora, calcule a média e variância aproximadas para a variável x e use\n",
        "o TLC para obter aproximações para a média e a variância da população\n",
        "subjacente. Os valores que você obteve são próximos aos valores teóricos?\n",
        "Explique."
      ],
      "metadata": {
        "id": "5pIBREpnzSS3"
      }
    },
    {
      "cell_type": "code",
      "source": [
        "from scipy.stats import expon\n",
        "from scipy.stats import norm\n",
        "import numpy as np\n",
        "from matplotlib import pyplot\n",
        "\n",
        "ig, ax = pyplot.subplots()\n",
        "\n",
        "n = 40\n",
        "lamb = 0.2\n",
        "exp_mean = 1/lamb;\n",
        "exp_var = 1/(lamb**2);\n",
        "exp_std_clt = (1/lamb)/np.sqrt(n);\n",
        "qtd_amostras = 1000\n",
        "\n",
        "means = [np.mean(expon.rvs(size = n, scale = exp_mean)) for _ in range(qtd_amostras)]\n",
        "\n",
        "normal_values = np.linspace(2, 8, 1000)\n",
        "\n",
        "pyplot.plot(normal_values, norm.pdf(normal_values, scale = exp_std_clt, loc = exp_mean), color = \"darkblue\")\n",
        "pyplot.hist(means, density = True, bins = 30, color = \"gray\", edgecolor=\"#333\")\n",
        "\n",
        "pyplot.ylabel(\"density\")\n",
        "pyplot.xlabel(\"sMean\")\n",
        "pyplot.show()\n",
        "\n",
        "print(\"Média populacional e Variância populacional estimados com TLC\")\n",
        "print(\"u =\", np.mean(means), \"o^2 =\", np.var(means)*n)\n",
        "print(exp_mean, exp_var)"
      ],
      "metadata": {
        "id": "Ug0RgO-60Lsd",
        "colab": {
          "base_uri": "https://localhost:8080/",
          "height": 501
        },
        "outputId": "53be4cc3-8f18-4f9d-b667-e4a6eef5deb0"
      },
      "execution_count": null,
      "outputs": [
        {
          "output_type": "display_data",
          "data": {
            "text/plain": [
              "<Figure size 640x480 with 1 Axes>"
            ],
            "image/png": "[encoded data removed]"
          },
          "metadata": {}
        },
        {
          "output_type": "stream",
          "name": "stdout",
          "text": [
            "Média populacional e Variância populacional estimados com TLC\n",
            "u = 5.024378285822497 o^2 = 24.248485620222038\n",
            "5.0 24.999999999999996\n"
          ]
        }
      ]
    },
    {
      "cell_type": "markdown",
      "source": [
        "**Explicação do código:**\n",
        "* n é tamanho da amostra\n",
        "* lamb é o parâmetro da distribuiçao exponencial\n",
        "* exp_mean é a média da população da distribuição exponecial\n",
        "* exp_var é a variância da população da distribuição exponecial\n",
        "* exp_std_clt é o desvio padrão da distribuição amostral calculado usando o TCL\n",
        "* means recebe as médias de 1000 amostras de n = 40. A variável means representa a distribuição amostral da média\n",
        "* normal_values recebe um array com 1000 valores entre 2 e 8. Essa variável será usada para plotar a distribuição normal teórica sobre o histograma da distribuição amostral da média. \n",
        "* O pyplot.plot plota a distribuição normal entre os valores de 2 a 8\n",
        "* O pyplot.hist plota o histograma que representa a distribuição amostral da média\n",
        "\n",
        "O gráfico gerado mostra que a distribuiçao amostral da média se aproxima da distribuição normal. \n",
        "\n",
        "\n",
        "\n"
      ],
      "metadata": {
        "id": "S7t883gSvZKQ"
      }
    },
    {
      "cell_type": "markdown",
      "source": [
        "**Resposta**\n",
        "\n",
        "Sim, os valore gerados são próximos aos valores teóricos. Segundo o TLC, a média da distribuição amostral da média, no caso empírico, tem valor próximo da média da população. Para a variância, usa-se a manipulação da formula da variância do TLC: \n",
        "$\\sigma_{\\overline{x}}^2 \\approx \\frac{\\sigma^2}{n}$ -> ${\\sigma^2} \\approx \\sigma_{\\overline{x}}^2 * {n}$\n",
        "\n",
        "Dessa forma, os valores serão próximos da população, pois a distribuição amostral é empirica. "
      ],
      "metadata": {
        "id": "Jo7Yoa7H4KB6"
      }
    },
    {
      "cell_type": "markdown",
      "source": [
        "#2 Distribuições Amostrais\n",
        "Considere uma população de sacos de batatas de 5Kg cada. Nessa população, considere que a característica (i.e., a variável) de interesse é a\n",
        "quantidade de batatas contida em cada saco. Sendo assim, a população subjacente corresponde a um conjunto de valores num´ericos inteiros positivos\n",
        "(correspondentes às quantidades de batatas em cada saco).\n",
        "Nesta parte do trabalho, você irá abordar a situação descrita acima como\n",
        "um problema de Probabilidade em vez de um problema de Estatística. Em\n",
        "um problema de Probabilidade, normalmente supõe-se que é conhecida a distribuição da população (o que não acontece em um problema de Estatística).\n",
        "Sendo assim, considere que a variável aleatória correspondente é a quantidade de batatas em um saco da população, e que essa variável segue uma\n",
        "distribuição uniforme discreta nos inteiros de 10 até 20. Isso significa que\n",
        "em cada saco podem ser encontradas no mínimo 10 e no máximo 20 batatas.\n",
        "Significa também que cada saco de batatas tem igual probabilidade de conter\n",
        "10, 11, ..., 20 batatas."
      ],
      "metadata": {
        "id": "1WRuANqsAlil"
      }
    },
    {
      "cell_type": "markdown",
      "source": [
        "(i) Esboce um gráfico (histograma) da distribuição da população com\n",
        "relação à característica quantidade de batatas. Dica: observe que esta\n",
        "população é modelada por uma distribuição discreta uniforme. Veja\n",
        "detalhes nesta entrada da Wikipedia: https://en.wikipedia.org/wiki/Discrete_uniform_distribution."
      ],
      "metadata": {
        "id": "PgjKc8VwCL9n"
      }
    },
    {
      "cell_type": "code",
      "source": [
        "from scipy.stats import randint\n",
        "import itertools\n",
        "import numpy as np\n",
        "from matplotlib import pyplot\n",
        "\n",
        "a = 10 \n",
        "b = 20\n",
        "\n",
        "x = np.arange(a, b+1)\n",
        "\n",
        "y = []\n",
        "for i in range(11):\n",
        "    y.append([1/(b - a + 1)])\n",
        "\n",
        "pyplot.vlines(x, 0, y, colors='b', lw=20, alpha=0.5)\n",
        "pyplot.xticks(x)\n",
        "pyplot.yticks(np.arange(0.0, 0.11, 0.01))\n",
        "pyplot.xlabel('X (qtd de batatas)')\n",
        "pyplot.ylabel('Probabilidade')\n",
        "pyplot.show()"
      ],
      "metadata": {
        "id": "Aq-IAVpvDEy8"
      },
      "execution_count": null,
      "outputs": []
    },
    {
      "cell_type": "markdown",
      "source": [
        "**Explicação do código:**\n",
        "* as variaveis a e b reprentam os limites da distribuição uniforme discreta\n",
        "* x recebe um array com 11 valores dentro do intervalo de 10 e 20\n",
        "* y é a distribuição de probabilidade\n",
        "* pyplot.vlines plota o histograma"
      ],
      "metadata": {
        "id": "60rAluot3qJ8"
      }
    },
    {
      "cell_type": "markdown",
      "source": [
        "(ii) Encontre a média (µ), a variância (σ²) e o desvio padrão (σ) da distribuição da população. Dica: nome mesmo link da Wikipédia fornecido no item acima, você encontra as fórmulas que você deve usar para computar os valores solicitados neste item.\n"
      ],
      "metadata": {
        "id": "-5hdIKQYFcGA"
      }
    },
    {
      "cell_type": "code",
      "source": [
        "from scipy.stats import randint\n",
        "import itertools\n",
        "import numpy as np\n",
        "from matplotlib import pyplot\n",
        "\n",
        "a = 10 \n",
        "b = 20\n",
        "\n",
        "x = np.arange(a, b+1)\n",
        "\n",
        "mean = (a + b)/2\n",
        "variance = ((b - a + 1)**2 - 1)/12\n",
        "sdv = np.sqrt(variance)\n",
        "\n",
        "print(\"Média, variância e desvio padrão da população\")\n",
        "print(\"u =\", mean)\n",
        "print(\"o^2 =\", variance)\n",
        "print(\"o =\", sdv)"
      ],
      "metadata": {
        "id": "ULSzohT6GBH2"
      },
      "execution_count": null,
      "outputs": []
    },
    {
      "cell_type": "markdown",
      "source": [
        "**Explicação do código:**\n",
        "* mean recebe o calculo da média populacional\n",
        "* variance recebe o calculo da variância populacional\n",
        "* sdv recebe o calculo do desvio padrão da população"
      ],
      "metadata": {
        "id": "bmrWq3gI8QjD"
      }
    },
    {
      "cell_type": "markdown",
      "source": [
        "(iii)  Considere que o plano amostral utilizado é uma amostragem aleatória\n",
        "simples feita com substituição (simple random sample with replacement). Considere tomar amostras de tamanho 2 dessa população e\n",
        "calcular a média de cada amostra. Feito isso, para cada amostra, você\n",
        "vai ter calculado uma estatística pontual (point statistic) da variável\n",
        "x. Se você fizer isso para todas as possíveis amostras aleatórias de\n",
        "tamanho 2, a distribuição de todas as estatísticas pontuais resultantes\n",
        "é denominada distribuição amostral da média (sampling distribution\n",
        "of the sample mean) para n = 2. Para a maioria dos casos práticos,\n",
        "dada uma população, não é possível gerar todas as possíveis amostras (de determinado tamanho) dessa população. Entretanto, para este caso\n",
        "particular, isso é possível, porque a população é finita e pequena. Sendo\n",
        "assim, encontre essa distribuição aplicando os passos a seguir.\n",
        "\n",
        "* Primeiro, implemente uma função para produzir a lista de todos os\n",
        "possíveis valores da estatística. Para isso, gere todas as amostras\n",
        "possíveis de n = 2 elementos. Uma amostra possível é o par (10,\n",
        "10); outra amostra possível é o par (15,12). Em seguida, para\n",
        "cada amostra gerada, compute a média de seus dois elementos.\n",
        "Por exemplo, para as duas amostras anteriores, as médias são\n",
        "10 e 13,5, respectivamente. Repare que várias amostras diferentes\n",
        "geram o mesmo valor para a média. Por exemplo, as amostras (12,\n",
        "15), (13, 14), (14, 13), (15, 12) todas geram a mesma média 13,5.\n",
        "Dica: se você está em dúvida sobre como gerar os possíveis valores\n",
        "da estatística x para n = 2 e suas respectivas probabilidades,\n",
        "então estude e entenda o exemplo disponibilizado na página 2\n",
        "deste documento: https://tinyurl.com/235stj69\n",
        "\n",
        "* Em seguida, usando o resultado da função acima, esboce um\n",
        "gráfico (histograma) da distribuição amostral de $\\overline{x}$."
      ],
      "metadata": {
        "id": "ge5MVTSHG-BB"
      }
    },
    {
      "cell_type": "code",
      "source": [
        "\n",
        "from scipy.stats import randint\n",
        "import itertools\n",
        "import numpy as np\n",
        "from matplotlib import pyplot\n",
        "\n",
        "a = 10 \n",
        "b = 20\n",
        "\n",
        "x = np.arange(a, b+1)\n",
        "\n",
        "def sampleMean():\n",
        "    samples = list(itertools.product(x, x))\n",
        "    means = []\n",
        "\n",
        "    for i in range(samples.__len__()): means.append(np.mean(samples[i]))\n",
        "    return means\n",
        "\n",
        "means = sampleMean()\n",
        "\n",
        "print(means)\n",
        "pyplot.hist(means, bins = 50)\n",
        "pyplot.xticks(x)\n",
        "pyplot.show()"
      ],
      "metadata": {
        "id": "naDAuIahIv0E"
      },
      "execution_count": null,
      "outputs": []
    },
    {
      "cell_type": "markdown",
      "source": [
        "**Explicação do código:**\n",
        "* A função sampleMena é resposável por calcular distribuição amostral da médial. \n",
        "* A variavel samples recebe todos as possíveis amostras de n = 2 elementos. As amostras são geradas pele método intertools.product().\n",
        "* O laço for computada a média para cada amostra e armazena dentro do array means.\n",
        "* pyplot.hist plota o histograma da distribuição amostral da média\n",
        "\n"
      ],
      "metadata": {
        "id": "RQuEOlUS92K6"
      }
    },
    {
      "cell_type": "markdown",
      "source": [
        "(iv) Encontre a média ($\\mu_{\\overline{x}}$), a variância ($\\sigma_{\\overline{x}}^2$) e o desvio padrão ($\\sigma_{\\overline{x}}$) da\n",
        "distribuição amostral da média amostral para n = 2. Dica: Compute\n",
        "esses valores aplicando as funções numpy.mean e numpy.var em Python\n",
        "(ou mean e var em R). Aplique essas funções sobre a distribuição que\n",
        "você produziu no item (iii)."
      ],
      "metadata": {
        "id": "RthdP8VUKkAi"
      }
    },
    {
      "cell_type": "code",
      "source": [
        "from scipy.stats import randint\n",
        "import itertools\n",
        "import numpy as np\n",
        "from matplotlib import pyplot\n",
        "\n",
        "a = 10 \n",
        "b = 20\n",
        "\n",
        "x = np.arange(a, b+1)\n",
        "\n",
        "def sampleMean():\n",
        "    samples = list(itertools.product(x, x))\n",
        "    means = []\n",
        "\n",
        "    for i in range(samples.__len__()): means.append(np.mean(samples[i]))\n",
        "    return means\n",
        "\n",
        "means = sampleMean()\n",
        "\n",
        "mean_x = np.mean(means)\n",
        "var_x = np.var(means)\n",
        "std_x = np.sqrt(var_x)\n",
        "\n",
        "print(\"Média, variância e desvio padrão da distribuição amostral da média\")\n",
        "print(\"\\nu_x =\", mean_x, \"\\no_x^2 =\", var_x, \"\\no_x =\", std_x)"
      ],
      "metadata": {
        "id": "U-KCDZxhMxvf"
      },
      "execution_count": null,
      "outputs": []
    },
    {
      "cell_type": "markdown",
      "source": [
        "**Explicação do código:**\n",
        "* mean_x recebe o valor da média da distribuição amostral da média. Essa média é computada usando o método np.mean da bibliotéca numpy. \n",
        "\n",
        "* var_x recebe o valor da variância da distribuição amostral da média. A variância é computada usando o método np.var da bibliotéca numpy.\n",
        "\n",
        "* std_x recebe o valor do desvio padrão da distribuição amostral da média. O desvio padrão é computado extraindo-se a raiz quadrada de var_x usando o método np.sqrt da bibliotéca numpy."
      ],
      "metadata": {
        "id": "Sb0s_lY8_o8s"
      }
    },
    {
      "cell_type": "markdown",
      "source": [
        "(v) O Teorema do Limite Central apresenta uma teoria sobre os valores do\n",
        "desvio padrão e da média da distribuição amostral da média amostral\n",
        "x. Use essa teoria e os resultados do item (ii) acima para encontrar\n",
        "o desvio padrão e a média da distribuição amostral da média para\n",
        "n = 2. Como forma de validação, você deve encontrar os mesmos\n",
        "valores encontrados no item (iv)."
      ],
      "metadata": {
        "id": "8RS-0SLoOGJk"
      }
    },
    {
      "cell_type": "code",
      "source": [
        "from scipy.stats import randint\n",
        "import itertools\n",
        "import numpy as np\n",
        "from matplotlib import pyplot\n",
        "\n",
        "a = 10 \n",
        "b = 20\n",
        "\n",
        "x = np.arange(a, b+1)\n",
        "\n",
        "mean = (a + b)/2\n",
        "variance = ((b - a + 1)**2 - 1)/12\n",
        "sdv = np.sqrt(variance)\n",
        "\n",
        "print(\"Média, variância e desvio padrão da distribuição amostral da média\")\n",
        "print(\"u_x =\", mean_x, \"\\no_x^2 =\", var_x, \"\\no_x =\", std_x)\n",
        "\n",
        "print(\"\\nMédia e desvio padrão da distribuição amostral usando TLC\")\n",
        "print(mean == mean_x)\n",
        "print(\"u_x =\", mean)\n",
        "print(\"o_x =\", sdv/np.sqrt(2))"
      ],
      "metadata": {
        "id": "ixRefPOvOrBP"
      },
      "execution_count": null,
      "outputs": []
    },
    {
      "cell_type": "markdown",
      "source": [
        "**Explicação do código:**\n",
        "* mean == mean_x -> Compara a média da população com a média amostral. Seguindo o TLC, os valores da média populacional e da média da distribuição amostral da média serão iguais. \n",
        "\n",
        "* sdv/np.sqrt(2) -> Calcula o desvio padrão da distribuição amostral da média usando Teorema do Limite Central, onnde 2 é o tamanho da amostra. \n"
      ],
      "metadata": {
        "id": "7MEK1VdYBjkr"
      }
    },
    {
      "cell_type": "markdown",
      "source": [
        "(vi) Suponha, por um momento, que você não conhece a distribuição de\n",
        "probabilidades da população e que deseja estimar a média da população\n",
        "a partir de uma amostra de tamanho 2 tomada aleatoriamente dessa\n",
        "população. Qual estatística você calcularia sobre essa amostra para\n",
        "estimar a média da população? Você acha que essa estatística seria um\n",
        "bom estimador da população? Que outra estatística poderia ser um\n",
        "melhor estimador? Por quê?"
      ],
      "metadata": {
        "id": "ON64OohCRwav"
      }
    },
    {
      "cell_type": "markdown",
      "source": [
        "**Resposta:**\n",
        "Usaria a média da amostra para estimar a média da população. A média não seria um bo estimador, pois o tamanho da amostra não suficientemente grande para se obter um estimativa próxima da população. Outra estatística seria calcular a média de uma amostra maior, pois reduziria a variabilidade da média."
      ],
      "metadata": {
        "id": "IDOSWVORSbzs"
      }
    },
    {
      "cell_type": "markdown",
      "source": [
        "(vii) Suponhamos que estivéssemos interessados na distribuição amostral da\n",
        "média para amostras de tamanho n = 9 e queiramos realizar os mesmos\n",
        "passos que em (iii) e (iv) acima."
      ],
      "metadata": {
        "id": "Ff5AcH21SciI"
      }
    },
    {
      "cell_type": "markdown",
      "source": [
        "a) Para gerar a distribuição amostral teórica, teríamos que gerar todas as possíveis amostras de tamanho n = 9. Quantas amostras\n",
        "possíveis de tamanho n = 9 existem? Essa tarefa (gerar a distribuição amostral teórica neste caso) é factível de ser feita manualmente, ou mesmo usando um computador?\n"
      ],
      "metadata": {
        "id": "7-HJymKuTIJV"
      }
    },
    {
      "cell_type": "markdown",
      "source": [
        "**Resposta**\n",
        "A quantidade amostras é 11³ = 23.589.869.056. Essa tarefa é impossível de se fazer manualmente, mas é possível usando um computador com um bom hardware."
      ],
      "metadata": {
        "id": "zdWjzYKDZ__J"
      }
    },
    {
      "cell_type": "markdown",
      "source": [
        "b) Crie um histograma da distribuição amostral empírica (que é uma\n",
        "aproximação da distribuição amostral teórica). Dica: gere uma\n",
        "quantidade grande de amostras para obter uma aproximação adequada"
      ],
      "metadata": {
        "id": "IbT7V-dMTrHd"
      }
    },
    {
      "cell_type": "code",
      "source": [
        "from scipy.stats import randint\n",
        "import itertools\n",
        "import numpy as np\n",
        "from matplotlib import pyplot\n",
        "\n",
        "a = 10 \n",
        "b = 20\n",
        "\n",
        "x = np.arange(a, b+1)\n",
        "\n",
        "distribuition = randint(a, b+1)\n",
        "means = [np.mean(distribuition.rvs(size = 9)) for _ in range(100000)]\n",
        "\n",
        "pyplot.hist(means, bins=30, density=True)\n",
        "pyplot.show()"
      ],
      "metadata": {
        "id": "sxFackV3T9G_"
      },
      "execution_count": null,
      "outputs": []
    },
    {
      "cell_type": "markdown",
      "source": [
        "**Explicação do código:**\n",
        "* distribuition recebe uma distribuição unifrome discreta. Essa distribuição é gerada com o método randint da bibliotéca scipy.stats.\n",
        "\n",
        "* means recebe a distribuição amostral da média. As médias de 100 mil amostras de n = 9 elementos foram computadas. Foi usado o método rvs para gerar as amostras que seguem a distribuição uniforme discreta. "
      ],
      "metadata": {
        "id": "EJeRHsYhDsF6"
      }
    },
    {
      "cell_type": "markdown",
      "source": [
        "# 3 Intervalo de confiança para µ\n",
        "Imagine que você seja um candidato a emprego tentando apresentar suas habilidades a um recrutador em um processo seletivo de uma empresa. Em qual\n",
        "das duas condições abaixo você teria mais chances de conseguir o emprego?\n",
        "\n",
        "* você grava um áudio com um breve discurso descrevendo suas habilidades para o recrutador;\n",
        "* você escreve um breve discurso para que o recrutador o leia.\n",
        "\n",
        "A questão de pesquisa acima foi levantada por Schroeder and Epley\n",
        "(2015). Nesse artigo, os autores conclu´ıram que a maneira como uma pessoa fala (ou seja, tom vocal, cadência, etc.) comunica informações sobre seu\n",
        "intelecto melhor do que suas palavras escritas (mesmo que sejam as mesmas\n",
        "palavras usadas no discurso falado).\n",
        "Para examinar a questão de pesquisa descrita acima, os autores designaram aleatoriamente 39 recrutadores profissionais de empresas da Fortune\n",
        "5004 para uma de duas condições.\n",
        "\n",
        "* Na condição de áudio, os participantes ouvem gravações de áudio do\n",
        "discurso falado de um candidato a emprego.\n",
        "* Na condição de transcrição, os participantes lêem uma transcrição do\n",
        "discurso do candidato a emprego\n",
        "\n",
        "Depois de ouvir ou ler o discurso, os participantes classificaram os candidatos a emprego em três dimensões: inteligência, competência e foco. Essas\n",
        "classificações foram então usadas para criar uma unica medida do intelecto do\n",
        "candidato, com pontuações mais altas indicando que os recrutadores classificaram os candidatos como superiores em intelecto. Os participantes também\n",
        "avaliaram sua impressão geral do candidato ao emprego (uma combinação de\n",
        "dois itens medindo impressões positivas e negativas). Por fim, os participantes indicaram qual o potencial de recomendar a contratação do candidato (0 nada provável, 10 - extremamente provável).\n",
        "O conjunto de dados fornecido para realizar essa parte do trabalho está no\n",
        "arquivo SchroederEpley2015data.txt. Nesse conjunto de dados, há várias\n",
        "colunas. Contudo, há duas colunas de interesse para esta parte do trabalho.\n",
        "\n",
        "* a coluna CONDITION indica o condição à qual cada recrutador foi alocador. O valor 1 indica que o recrutador foi alocado na condição de\n",
        "áudio; O valor 0 indica que o recrutador foi alocado na condição de\n",
        "transcrição.\n",
        "* a coluna Intellect Rating indica a avaliação que cada recrutador\n",
        "atribuiu ao candidato. Essa avaliação é um valor inteiro entre 0 e 10.\n",
        "\n",
        "Repare que a coluna CONDITION permite dividir a coleção de valores de\n",
        "avaliações em duas amostras distintas, que vamos chamar de Sa e de St.\n",
        "As amostras Sa e St correspondem aos valores de avaliação atribuídos por\n",
        "recrutadores nas condições de áudio e de transcrição, respectivamente.\n",
        "Agora, com base nas informações fornecidas acima, responda aos itens a\n",
        "seguir.\n"
      ],
      "metadata": {
        "id": "zrUCXMLnVFC4"
      }
    },
    {
      "cell_type": "markdown",
      "source": [
        "(i) Compute a média e o tamanho (quantidade de observações) tanto para\n",
        "Sa quanto St."
      ],
      "metadata": {
        "id": "ughz6gNeYn1y"
      }
    },
    {
      "cell_type": "code",
      "source": [
        "import pandas as pd\n",
        "import numpy as np\n",
        "import seaborn as sns\n",
        "from matplotlib import pyplot\n",
        "from scipy.stats import norm\n",
        "\n",
        "data = pd.read_csv(\"./SchroederEpley2015data.txt\")\n",
        "dataSa = data.loc[data[\"CONDITION\"] == 1, \"Intellect_Rating\"]\n",
        "dataSt = data.loc[data[\"CONDITION\"] == 0, \"Intellect_Rating\"]\n",
        "\n",
        "Sa = dataSa.values\n",
        "St = dataSt.values\n",
        "\n",
        "print(\"Mean:\", np.mean(St), \", quantity:\", len(St))\n",
        "print(\"Mean:\", np.mean(Sa), \", quantity:\", len(Sa))"
      ],
      "metadata": {
        "id": "3KdJdzlvY9Wf"
      },
      "execution_count": null,
      "outputs": []
    },
    {
      "cell_type": "markdown",
      "source": [
        "**Explicação do código:**\n",
        "* data recebe o arquivo SchroederEpley2015data.txt. \n",
        "* dataSa recebe os valores da coluna Intellect_Rating na condição de só áudio\n",
        "* dataSa recebe os valores da coluna Intellect_Rating na condição de só transcrição\n",
        "* Sa recebe a quantidade de obersevações que tem em dataSa \n",
        "* St recebe a quantidade de obersevações que tem em dataSt"
      ],
      "metadata": {
        "id": "0dg2TiZOHIg6"
      }
    },
    {
      "cell_type": "markdown",
      "source": [
        "(ii) Construa um boxplot 5 para apresentar graficamente as duas amostras.\n",
        "Seu gráfico deve ser semelhante ao apresentado na Figura 2. Em Python, você pode usar a biblioteca Seaborn\n",
        "* Em R, você pode usar\n",
        "a biblioteca GGPLOT27\n",
        "* Forneça uma análise das informações fornecidas pelo gráfico."
      ],
      "metadata": {
        "id": "RLvFOae_aMXO"
      }
    },
    {
      "cell_type": "code",
      "source": [
        "import pandas as pd\n",
        "import numpy as np\n",
        "import seaborn as sns\n",
        "from matplotlib import pyplot\n",
        "import scipy\n",
        "from scipy.stats import norm\n",
        "\n",
        "data = pd.read_csv(\"./SchroederEpley2015data.txt\")\n",
        "dataSa = data.loc[data[\"CONDITION\"] == 1, \"Intellect_Rating\"]\n",
        "dataSt = data.loc[data[\"CONDITION\"] == 0, \"Intellect_Rating\"]\n",
        "\n",
        "Sa = dataSa.values\n",
        "St = dataSt.values\n",
        "\n",
        "sns.boxplot(data = [dataSt, dataSa], palette = \"Set2\")\n",
        "pyplot.xlabel(\"CONDITION\")\n",
        "pyplot.ylabel(\"Avaliação\")\n",
        "pyplot.yticks(np.arange(0, 8, 2.5))\n",
        "pyplot.show()"
      ],
      "metadata": {
        "id": "AtqZoZQfauuw"
      },
      "execution_count": null,
      "outputs": []
    },
    {
      "cell_type": "markdown",
      "source": [
        "**Explicação do código:**\n",
        "* O box plot foi plotado usando sns.boxplot da bibliotéca searborn"
      ],
      "metadata": {
        "id": "qpYSP0DgJhyS"
      }
    },
    {
      "cell_type": "markdown",
      "source": [
        "(iii) Aplique um teste de normalidade em ambas as amostras, Sa e St. Apresente uma análise do resultado obtido"
      ],
      "metadata": {
        "id": "2sXziO8kcTSZ"
      }
    },
    {
      "cell_type": "code",
      "source": [
        "import pandas as pd\n",
        "import numpy as np\n",
        "import seaborn as sns\n",
        "from matplotlib import pyplot\n",
        "import scipy\n",
        "from scipy.stats import norm\n",
        "\n",
        "data = pd.read_csv(\"./SchroederEpley2015data.txt\")\n",
        "dataSa = data.loc[data[\"CONDITION\"] == 1, \"Intellect_Rating\"]\n",
        "dataSt = data.loc[data[\"CONDITION\"] == 0, \"Intellect_Rating\"]\n",
        "\n",
        "Sa = dataSa.values\n",
        "St = dataSt.values\n",
        "\n",
        "f, (ax1, ax2) = pyplot.subplots(1, 2, figsize=(9, 4), sharey=True)\n",
        "scipy.stats.probplot(Sa, dist = \"norm\", plot = ax1)\n",
        "ax1.set_title(\"Amostra de áudio\")\n",
        "scipy.stats.probplot(St, dist = \"norm\", plot = ax2)\n",
        "ax2.set_title(\"Amostra de transcrição\")\n",
        "pyplot.show()"
      ],
      "metadata": {
        "id": "xKInnl1fcpti",
        "colab": {
          "base_uri": "https://localhost:8080/",
          "height": 410
        },
        "outputId": "8da5a4f5-2a85-4a0e-9ea5-538f3ab54bc2"
      },
      "execution_count": null,
      "outputs": [
        {
          "output_type": "display_data",
          "data": {
            "text/plain": [
              "<Figure size 900x400 with 2 Axes>"
            ],
            "image/png": "[encoded data removed]"
          },
          "metadata": {}
        }
      ]
    },
    {
      "cell_type": "markdown",
      "source": [
        "**Explicação do código:**\n",
        "* A imagem do gráfico foi divida em duas usando pyploy.subplots da bibliotéca matplotlib\n",
        "\n",
        "* O teste de normalidade foi calculado usando scipy.stats.probplot da bibliotéca scipy"
      ],
      "metadata": {
        "id": "VMJguRvcKKfe"
      }
    },
    {
      "cell_type": "markdown",
      "source": [
        "**Resposta**\n",
        "Ambas as amostras seguem a distribuição normal, pois os pontos em azul estão se localizando aproximadamente sobre a reta vermelha. \n",
        "\n"
      ],
      "metadata": {
        "id": "PMq5Ob0zGRZW"
      }
    },
    {
      "cell_type": "markdown",
      "source": [
        "(iv) Construa um intervalo de confiança para a média de avaliações produzidas por duas populações distintas, a de recrutadores que ouvem os áudios, e a de recrutadores que leem os transcritos. Note que a resposta a este item deve ser dois intervalos de confiança. Use o nível de confiança de 95%.\n"
      ],
      "metadata": {
        "id": "B7teBZJ_dmJl"
      }
    },
    {
      "cell_type": "code",
      "source": [
        "import pandas as pd\n",
        "import numpy as np\n",
        "import seaborn as sns\n",
        "from matplotlib import pyplot\n",
        "import scipy\n",
        "from scipy.stats import norm\n",
        "\n",
        "data = pd.read_csv(\"./SchroederEpley2015data.txt\")\n",
        "dataSa = data.loc[data[\"CONDITION\"] == 1, \"Intellect_Rating\"]\n",
        "dataSt = data.loc[data[\"CONDITION\"] == 0, \"Intellect_Rating\"]\n",
        "\n",
        "Sa = dataSa.values\n",
        "St = dataSt.values\n",
        "\n",
        "mean_Sa = np.mean(Sa)\n",
        "std_Sa = np.std(Sa, ddof=1)\n",
        "n_Sa = len(Sa)\n",
        "\n",
        "z_score = np.abs(norm.ppf((1 - 0.95)/2))\n",
        "\n",
        "error_margin_Sa = z_score * std_Sa/np.sqrt(n_Sa)\n",
        "ic_Sa_1 = mean_Sa - error_margin_Sa\n",
        "ic_Sa_2 = mean_Sa + error_margin_Sa\n",
        "print()\n",
        "print(\"Amostra de audio -> IC de 95 porcento: (%.5f, %.5f)\" % (ic_Sa_1, ic_Sa_2))\n",
        "\n",
        "mean_St = np.mean(St)\n",
        "std_St = np.std(St, ddof=1)\n",
        "n_St = len(St)\n",
        "\n",
        "error_margin_St = z_score * std_St/np.sqrt(n_St)\n",
        "ic_St_1 = mean_St - error_margin_St\n",
        "ic_St_2 = mean_St + error_margin_St\n",
        "print(\"Amostra de trascricao -> IC de 95 porcento: (%.5f, %.5f)\" % (ic_St_1, ic_St_2))"
      ],
      "metadata": {
        "id": "mjqzzZI4gLMo",
        "colab": {
          "base_uri": "https://localhost:8080/"
        },
        "outputId": "b6fd99d4-0ec6-4a39-f5f2-a3529d14ad95"
      },
      "execution_count": null,
      "outputs": [
        {
          "output_type": "stream",
          "name": "stdout",
          "text": [
            "\n",
            "Amostra de audio -> IC de 95 porcento: (4.94689, 6.32295)\n",
            "Amostra de trascricao -> IC de 95 porcento: (2.76517, 4.53113)\n"
          ]
        }
      ]
    },
    {
      "cell_type": "markdown",
      "source": [
        "**Explicação do código:**\n",
        "* mean_Sa e means_St recebem as médias das amostras Sa e St respectivamente\n",
        "* std_Sa e std_St recebem os desvios padrões das amostras Sa e St respectivamente\n",
        "* n_Sa e n_St recebem os tamanhos das amostras Sa e St respetivamente\n",
        "* z_score armazena o score. Para o calculo do z_score foi usado o método norm.ppf da bibliotéca scipy.stats.\n",
        "* error_margin_Sa e error_margin_St recebem o calculo das margens de erros\n",
        "* ic_Sa_1 e ic_Sa2 recebem os extermos do intervalo de confiança da amostra Sa\n",
        "* ic_St_1 e ic_St2 recebem os extermos do intervalo de confiança da amostra St\n"
      ],
      "metadata": {
        "id": "XD0j7xdlLi98"
      }
    },
    {
      "cell_type": "markdown",
      "source": [
        "(v) Com base nos intervalos de confiança obtidos no item anterior, você\n",
        "acha que a conclusão a que chegaram os autores em Schroeder and\n",
        "Epley (2015) é válida? Justifique sua resposta."
      ],
      "metadata": {
        "id": "yCtew6ZEhQuX"
      }
    },
    {
      "cell_type": "markdown",
      "source": [
        "**Falta Resposta!!**"
      ],
      "metadata": {
        "id": "7KoTtggGiMxG"
      }
    },
    {
      "cell_type": "markdown",
      "source": [
        "\n",
        "\n",
        "# 4 Intervalo de confiança para µ\n",
        "\n",
        "Essa parte do trabalho envolve computar um intervalo de confiança para a\n",
        "média das alturas dos estudantes de uma universidade. Você deve realizar\n",
        "essa parte do trabalho usando como amostra os dados contidos no conjunto\n",
        "de dados fornecido no arquivo survey.csv. Esse conjunto de dados contém\n",
        "o resultado de uma pesquisa feita com uma amostra de estudantes em uma\n",
        "universidade australiana. Os atributos desse conjunto de dados são descritos\n",
        "a seguir.\n",
        "\n",
        "Sex. O sexo do aluno. (Fator com os níveis Male e Female.)\n",
        "* Wr.Hnd. vão (distância da ponta do polegar à ponta do dedo mínimo\n",
        "da mão aberta) da mão que escreve, em centímetros.\n",
        "* NW.Hnd. extensão da mão que não escreve.\n",
        "* W.Hnd. mão de escrita. (Left ou Right.)\n",
        "* Fold. ”Cruze os braços! Qual está no topo? (R on L, L on R, Neither.)\n",
        "* Pulse. taxa de pulso do aluno (batimentos por minuto).\n",
        "* Clap. ’Bata palmas! Qual mão está para cima? (Right, Left,None.)\n",
        "* Exer. quantas vezes o aluno se exercita. (Freq (frequentemente), Some,\n",
        "None.)\n",
        "* Smoke. Quanto o aluno fuma. (Heavy, Regul (regularmente), Occas\n",
        "(occasionalmente), Never.)\n",
        "* Height. altura do aluno em centímetros.\n",
        "* M.I. se o aluno expressou a altura em unidades imperiais (pés/polegadas)\n",
        "ou métricas (centímetros/metros). (Metric, Imperial.)\n",
        "* Age. Idade do aluno em anos\n",
        "\n",
        "A variável de interesse está na coluna Height do conjunto de dados. Inicialmente, você deve eliminar valores faltantes (missing values) nessa coluna.\n",
        "Para isso, pesquise sobre a função na.omit da linguagem R, ou sobre a\n",
        "função drop.na da biblioteca Pandas em Python.\n",
        "Agora, realize o que se pede a seguir.\n"
      ],
      "metadata": {
        "id": "QGt8H3ueiYSY"
      }
    },
    {
      "cell_type": "markdown",
      "source": [
        "(i) Usando a distribuição t de Student, calcule um intervalo de confiança\n",
        "no nível de 95% para a altura média dos estudantes da universidade."
      ],
      "metadata": {
        "id": "k_78vE3IkqYU"
      }
    },
    {
      "cell_type": "code",
      "source": [
        "import pandas as pd\n",
        "import numpy as np\n",
        "from scipy.stats import t\n",
        "from scipy.stats import norm\n",
        "\n",
        "data = pd.read_csv(\"./survey.csv\")\n",
        "data_heights = data[\"Height\"].dropna()\n",
        "heights = data_heights.values\n",
        "\n",
        "n = len(heights)\n",
        "mean = np.mean(heights)\n",
        "std = np.std(heights, ddof = 1)\n",
        "\n",
        "df = n - 1\n",
        "t_score = np.abs(t.ppf((1 - 0.95)/2, df))\n",
        "error_margin = t_score * std/np.sqrt(n)\n",
        "print(\"IC de 95 porcento: (%.5f, %.5f)\" % (mean - error_margin, mean + error_margin))"
      ],
      "metadata": {
        "id": "zizHJ-t5lLMB",
        "colab": {
          "base_uri": "https://localhost:8080/"
        },
        "outputId": "e453b071-44d8-4e60-a2fc-1886c649969a"
      },
      "execution_count": null,
      "outputs": [
        {
          "output_type": "stream",
          "name": "stdout",
          "text": [
            "IC de 95 porcento: (171.03798, 173.72374)\n"
          ]
        }
      ]
    },
    {
      "cell_type": "markdown",
      "source": [
        "**Explicação do código:**\n",
        "* data recebe o arquivo survey.csv\n",
        "* data_heights tem todas as alturas não nulas. Para eliminar os valores nulos foi utilizado o método dropna().\n",
        "* heights tem um array das alturas \n",
        "* n tem o tamanho do array armazenado em heights\n",
        "* mean recebe o valor da média dos valores contidos em heights\n",
        "* std recebe o valor do desvio padrão da amostra contida em heights\n",
        "* df tem o valor do graus de liberdade\n",
        "* t_score recebe o valor do score da distribuição t\n",
        "* error_margin recebe o calculo da margem de erro\n",
        "* print exibe na tela os extremos do intervalo de confiança: mean - error_margin e mean + error_margin"
      ],
      "metadata": {
        "id": "t0yBAwlLgeYY"
      }
    },
    {
      "cell_type": "markdown",
      "source": [
        "(ii) Construa outro intervalo de confiança, desta vez usando o z-score (em\n",
        "vez do t-score que você usou anteriormente)."
      ],
      "metadata": {
        "id": "047EmRbtlnTh"
      }
    },
    {
      "cell_type": "code",
      "source": [
        "import pandas as pd\n",
        "import numpy as np\n",
        "from scipy.stats import t\n",
        "from scipy.stats import norm\n",
        "\n",
        "data = pd.read_csv(\"./survey.csv\")\n",
        "data_heights = data[\"Height\"].dropna()\n",
        "heights = data_heights.values\n",
        "\n",
        "n = len(heights)\n",
        "mean = np.mean(heights)\n",
        "std = np.std(heights, ddof = 1)\n",
        "\n",
        "z_score = np.abs(norm.ppf((1 - 0.95)/2))\n",
        "error_margin = z_score * std/np.sqrt(n)\n",
        "print(\"IC de 95 porcento: (%.5f, %.5f)\" % (mean - error_margin, mean + error_margin))"
      ],
      "metadata": {
        "id": "4MvFxE4dltJ0",
        "colab": {
          "base_uri": "https://localhost:8080/"
        },
        "outputId": "dddc16e0-ba89-4c73-a976-2fbfe5ff717a"
      },
      "execution_count": null,
      "outputs": [
        {
          "output_type": "stream",
          "name": "stdout",
          "text": [
            "IC de 95 porcento: (171.04580, 173.71593)\n"
          ]
        }
      ]
    },
    {
      "cell_type": "markdown",
      "source": [
        "**Explicação do código:**\n",
        "* data recebe o arquivo survey.csv\n",
        "* data_heights tem todas as alturas não nulas. Para eliminar os valores nulos foi utilizado o método dropna().\n",
        "* heights tem um array das alturas\n",
        "* n tem o tamanho do array armazenado em heights\n",
        "* mean recebe o valor da média dos valores contidos em heights\n",
        "* std recebe o valor do desvio padrão da amostra contida em heights\n",
        "* z_score recebe o valor do score da distribuição normal\n",
        "* error_margin recebe o calculo da margem de erro\n",
        "* print exibe na tela os extremos do intervalo de confiança: mean - error_margin e mean + error_margin"
      ],
      "metadata": {
        "id": "_98S7HQJjzZA"
      }
    },
    {
      "cell_type": "markdown",
      "source": [
        "(iii) Apresente uma análise comparativa dos dois intervalos de confiança\n",
        "obtidos."
      ],
      "metadata": {
        "id": "10aBhEJumHtb"
      }
    },
    {
      "cell_type": "markdown",
      "source": [
        "**Resposta:**\n",
        "\n",
        "Intervalo de confiança usando a distribuição t: ic 95% (171.03798, 173.72374)\n",
        "Intervalo de confiança usando z-score: IC de 95% porcento: (171.04580, 173.71593)\n",
        "\n",
        "Como o tamanho da amostra é maior que 30, então o intervalo de confiança usando a distribuição t tem valores bem próximos do intervalo de confiança usando o z-score. "
      ],
      "metadata": {
        "id": "zOyyHCjrmI2f"
      }
    },
    {
      "cell_type": "markdown",
      "source": [
        "5 Intervalo de confiança para $\\rho$\n",
        "\n",
        "Nesta parte do trabalho, você deve considerar a mesma amostra contida\n",
        "no conjunto de dados survey. Dessa vez, você produzir um intervalo de\n",
        "confiança, no nível de 90%, para a proporção de alunos da universidade que\n",
        "são canhotos. Sendo assim, dessa vez a coluna de interesse é W.Hnd.\n"
      ],
      "metadata": {
        "id": "_zZc6-lzmVY8"
      }
    },
    {
      "cell_type": "markdown",
      "source": [
        "(i) Primeiramente, se certifique de que existem pelo menos 10 estudantes destros e pelo menos 10 estudantes canhotos, para que você possa\n",
        "realizar a construção do intervalo de confiança de forma satisfatória."
      ],
      "metadata": {
        "id": "Fso9qaBtno8L"
      }
    },
    {
      "cell_type": "code",
      "source": [
        "import pandas as pd\n",
        "import numpy as np\n",
        "from scipy.stats import norm\n",
        "\n",
        "data = pd.read_csv(\"./survey.csv\")\n",
        "data_W_Hnd = data[\"W.Hnd\"]\n",
        "data_left = data.loc[data[\"W.Hnd\"] == \"Left\", \"W.Hnd\"].values\n",
        "data_right = data.loc[data[\"W.Hnd\"] == \"Right\", \"W.Hnd\"].values\n",
        "\n",
        "print(\"Num. de canhotos:\", len(data_left))\n",
        "print(\"Num. de destros:\", len(data_right))"
      ],
      "metadata": {
        "colab": {
          "base_uri": "https://localhost:8080/"
        },
        "id": "yhvq-bXSoG-I",
        "outputId": "3c32d71a-827c-45df-f384-50796257d436"
      },
      "execution_count": null,
      "outputs": [
        {
          "output_type": "stream",
          "name": "stdout",
          "text": [
            "Num. de canhotos: 18\n",
            "Num. de destros: 218\n"
          ]
        }
      ]
    },
    {
      "cell_type": "markdown",
      "source": [
        "**Explicação do código:**\n",
        "* data recebe o arquivo survey.csv\n",
        "* data_W_Hnd recebe os valores da coluna W.Hnd\n",
        "* data_left recebe os valores das pessoas conhotas da coluna W.Hnd\n",
        "* data_right recebe os valores das pessoas destras de coluna W.Hnd\n",
        "* dentro dos prints foi usado o método len(data_left) e len(data_right) para contabilizar a quantidade destros e conhotos"
      ],
      "metadata": {
        "id": "_dJ7ladJqLEs"
      }
    },
    {
      "cell_type": "markdown",
      "source": [
        "**Resposta:**\n",
        "\n",
        "Num. de canhotos: 18\n",
        "\n",
        "Num. de destros: 218"
      ],
      "metadata": {
        "id": "tNWLCZezMIoE"
      }
    },
    {
      "cell_type": "markdown",
      "source": [
        "(ii) Produza o intervalo de confiança solicitado. Junto com o resultado,\n",
        "forneça também uma análise."
      ],
      "metadata": {
        "id": "0ortbW5-owwF"
      }
    },
    {
      "cell_type": "code",
      "source": [
        "import pandas as pd\n",
        "import numpy as np\n",
        "from scipy.stats import norm\n",
        "\n",
        "data = pd.read_csv(\"./survey.csv\")\n",
        "data_W_Hnd = data[\"W.Hnd\"]\n",
        "data_left = data.loc[data[\"W.Hnd\"] == \"Left\", \"W.Hnd\"].values\n",
        "data_right = data.loc[data[\"W.Hnd\"] == \"Right\", \"W.Hnd\"].values\n",
        "\n",
        "n_left = len(data_left)\n",
        "n_tot = len(data_W_Hnd.values)\n",
        "\n",
        "pHat = n_left/n_tot\n",
        "z_score = np.absolute(norm.ppf((1 - 0.90)/2))\n",
        "error_margin = z_score * np.sqrt((pHat * (1 - pHat))/n_tot)\n",
        "print(\"IC de 90 porcento: (%.5f, %.5f)\" % (pHat - error_margin, pHat + error_margin))\n"
      ],
      "metadata": {
        "id": "b3-Rd7CDpMFW",
        "colab": {
          "base_uri": "https://localhost:8080/"
        },
        "outputId": "490b8d38-94d3-4010-8d59-4587aa2981bb"
      },
      "execution_count": null,
      "outputs": [
        {
          "output_type": "stream",
          "name": "stdout",
          "text": [
            "IC de 90 porcento: (0.04764, 0.10425)\n"
          ]
        }
      ]
    },
    {
      "cell_type": "markdown",
      "source": [
        "**Explicação do código:**\n",
        "* n_left armazena a quantidade de canhotos de data_left\n",
        "* n_tot armazena a quantidade total de data_W_Hnd\n",
        "* pHat recebe o calculo da proporção da amostra\n",
        "* z_score recebe o score da distribuição normal\n",
        "* error_margin recebe o calculo da margem de erro\n",
        "* print exibe os extremos do intervalo de confiança para proporção. Onde pHat - error_margin é o extermo inferior e pHat + error_margin é o extremo superior."
      ],
      "metadata": {
        "id": "d_lhmWHDtnNn"
      }
    },
    {
      "cell_type": "markdown",
      "source": [
        "**Resposta:**\n",
        "Seguindo o intervalo de confiaça, a proporção populacional de alunos canhotos estará no intervalo de 0.04764 e 0.10425 com 90% de confiança. "
      ],
      "metadata": {
        "id": "mXmzCnuApeVq"
      }
    }
  ]
}